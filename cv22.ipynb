{
 "cells": [
  {
   "cell_type": "code",
   "execution_count": null,
   "metadata": {},
   "outputs": [],
   "source": [
    "import cv2\n",
    "import numpy as np\n",
    "image=cv2.imread('Ferrari.jpg')\n",
    "cv2.imshow('loaded image',image)\n",
    "cv2.waitKey(0)\n",
    "cv2.destroyAllWindows()\n",
    "\n",
    "cv2.line(image,(0,0) , (image.shape[1] , image.shape[0] ), (255 , 0 ,0),3)\n",
    "\n",
    "cv2.rectangle(image ,(50,50),(300 , 300) , (255,0,0) , 3)\n",
    "\n",
    "cv2.circle(image,(100,100) , 100 , (255,0,0) ,3)\n",
    "\n",
    "cv2.ellipse(image,(200,200) , (100,50) , 0 ,0,360 , (255,0,0),3)\n",
    "\n",
    "cv2.putText(image,'hello',(50,50) , cv2.FONT_HERSHEY_SIMPLEX ,2, (255,0,0),3,cv2.LINE_AA)\n",
    "\n",
    "cv2.imshow('loaded image', image)\n",
    "cv2.waitKey(0)\n",
    "cv2.destroyAllWindows()"
   ]
  },
  {
   "cell_type": "code",
   "execution_count": null,
   "metadata": {},
   "outputs": [],
   "source": [
    "\n"
   ]
  }
 ],
 "metadata": {
  "kernelspec": {
   "display_name": "Python 3",
   "language": "python",
   "name": "python3"
  },
  "language_info": {
   "codemirror_mode": {
    "name": "ipython",
    "version": 3
   },
   "file_extension": ".py",
   "mimetype": "text/x-python",
   "name": "python",
   "nbconvert_exporter": "python",
   "pygments_lexer": "ipython3",
   "version": "3.12.2"
  }
 },
 "nbformat": 4,
 "nbformat_minor": 2
}
